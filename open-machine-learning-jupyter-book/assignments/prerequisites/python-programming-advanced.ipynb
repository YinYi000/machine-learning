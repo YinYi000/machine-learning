{
 "cells": [
  {
   "attachments": {},
   "cell_type": "markdown",
   "metadata": {
    "tags": [
     "hide-input"
    ]
   },
   "source": [
    "<details><summary><b>LICENSE</b></summary>\n",
    "\n",
    "MIT License\n",
    "\n",
    "Copyright (c) 2018 Oleksii Trekhleb\n",
    "\n",
    "Permission is hereby granted, free of charge, to any person obtaining a copy\n",
    "of this software and associated documentation files (the \"Software\"), to deal\n",
    "in the Software without restriction, including without limitation the rights\n",
    "to use, copy, modify, merge, publish, distribute, sublicense, and/or sell\n",
    "copies of the Software, and to permit persons to whom the Software is\n",
    "furnished to do so, subject to the following conditions:\n",
    "\n",
    "The above copyright notice and this permission notice shall be included in all\n",
    "copies or substantial portions of the Software.\n",
    "\n",
    "THE SOFTWARE IS PROVIDED \"AS IS\", WITHOUT WARRANTY OF ANY KIND, EXPRESS OR\n",
    "IMPLIED, INCLUDING BUT NOT LIMITED TO THE WARRANTIES OF MERCHANTABILITY,\n",
    "FITNESS FOR A PARTICULAR PURPOSE AND NONINFRINGEMENT. IN NO EVENT SHALL THE\n",
    "AUTHORS OR COPYRIGHT HOLDERS BE LIABLE FOR ANY CLAIM, DAMAGES OR OTHER\n",
    "LIABILITY, WHETHER IN AN ACTION OF CONTRACT, TORT OR OTHERWISE, ARISING FROM,\n",
    "OUT OF OR IN CONNECTION WITH THE SOFTWARE OR THE USE OR OTHER DEALINGS IN THE\n",
    "SOFTWARE.\n",
    "\n",
    "</details>"
   ]
  },
  {
   "cell_type": "markdown",
   "metadata": {},
   "source": [
    "# Python programming advanced"
   ]
  },
  {
   "cell_type": "markdown",
   "metadata": {},
   "source": [
    "## Conditionals"
   ]
  },
  {
   "cell_type": "markdown",
   "metadata": {},
   "source": [
    "### `if-elif-else`\n",
    "\n",
    "Fill missing pieces `____` of the following code such that prints make sense."
   ]
  },
  {
   "cell_type": "code",
   "execution_count": 245,
   "metadata": {
    "editable": false
   },
   "outputs": [],
   "source": [
    "name = 'John Doe'"
   ]
  },
  {
   "cell_type": "code",
   "execution_count": 246,
   "metadata": {},
   "outputs": [
    {
     "name": "stdout",
     "output_type": "stream",
     "text": [
      "Name \"John Doe\" is 8, 9 or 10 chars long\n"
     ]
    }
   ],
   "source": [
    "if len(name) >= 20:\n",
    "    print('Name \"{}\" is more than 20 chars long'.format(name))\n",
    "    length_description = 'long'\n",
    "elif len(name) >= 15:\n",
    "    print('Name \"{}\" is more than 15 chars long'.format(name))\n",
    "    length_description = 'semi long'\n",
    "elif len(name) >= 10:\n",
    "    print('Name \"{}\" is more than 10 chars long'.format(name))\n",
    "    length_description = 'semi long'\n",
    "elif len(name) >= 8:\n",
    "    print('Name \"{}\" is 8, 9 or 10 chars long'.format(name))\n",
    "    length_description = 'semi short'\n",
    "else:\n",
    "    print('Name \"{}\" is a short name'.format(name))\n",
    "    length_description = 'short'"
   ]
  },
  {
   "cell_type": "code",
   "execution_count": 247,
   "metadata": {
    "editable": false
   },
   "outputs": [],
   "source": [
    "assert length_description == 'semi short'"
   ]
  },
  {
   "cell_type": "markdown",
   "metadata": {},
   "source": [
    "## For loops"
   ]
  },
  {
   "cell_type": "markdown",
   "metadata": {},
   "source": [
    "### Fill the missing pieces\n",
    "\n",
    "Fill the `____` parts in the code below."
   ]
  },
  {
   "cell_type": "code",
   "execution_count": 248,
   "metadata": {},
   "outputs": [],
   "source": [
    "words = ['PYTHON', 'JOHN', 'chEEse', 'hAm', 'DOE', '123']\n",
    "upper_case_words = []\n",
    "\n",
    "for keys in words:\n",
    "    if keys.isupper():\n",
    "        upper_case_words.append(keys)"
   ]
  },
  {
   "cell_type": "code",
   "execution_count": 249,
   "metadata": {
    "editable": false
   },
   "outputs": [],
   "source": [
    "assert upper_case_words == ['PYTHON', 'JOHN', 'DOE']"
   ]
  },
  {
   "cell_type": "markdown",
   "metadata": {},
   "source": [
    "### `range()`"
   ]
  },
  {
   "cell_type": "code",
   "execution_count": 250,
   "metadata": {},
   "outputs": [],
   "source": [
    "num_list = []"
   ]
  },
  {
   "cell_type": "code",
   "execution_count": 251,
   "metadata": {},
   "outputs": [],
   "source": [
    "# Your solution here:\n",
    "for number in range(2,7,2): \n",
    "    num_list.append(number)"
   ]
  },
  {
   "cell_type": "code",
   "execution_count": 252,
   "metadata": {},
   "outputs": [],
   "source": [
    "assert num_list == [2, 4, 6]"
   ]
  },
  {
   "cell_type": "markdown",
   "metadata": {},
   "source": [
    "### Looping dictionaries"
   ]
  },
  {
   "cell_type": "code",
   "execution_count": 253,
   "metadata": {},
   "outputs": [],
   "source": [
    "my_dict = {'hacker': True, 'age': 72, 'name': 'John Doe'}\n",
    "keys_list = []\n",
    "values_list = []"
   ]
  },
  {
   "cell_type": "code",
   "execution_count": 254,
   "metadata": {},
   "outputs": [],
   "source": [
    "# Your solution here:\n",
    "for keys,values in my_dict.items():\n",
    "    keys_list.append(keys)\n",
    "    values_list.append(values)\n"
   ]
  },
  {
   "cell_type": "code",
   "execution_count": 255,
   "metadata": {},
   "outputs": [],
   "source": [
    "assert keys_list == ['hacker', 'age', 'name']\n",
    "assert values_list == [True, 72, 'John Doe']"
   ]
  },
  {
   "cell_type": "markdown",
   "metadata": {},
   "source": [
    "### Calculate the sum of dict values\n",
    "\n",
    "Calculate the sum of the values in `magic_dict` by taking only into account numeric values (hint: see [isinstance](https://docs.python.org/3/library/functions.html#isinstance)). "
   ]
  },
  {
   "cell_type": "code",
   "execution_count": 256,
   "metadata": {
    "editable": false
   },
   "outputs": [],
   "source": [
    "magic_dict = dict(val1=44, val2='secret value', val3=55.0, val4=1)"
   ]
  },
  {
   "cell_type": "code",
   "execution_count": 257,
   "metadata": {},
   "outputs": [],
   "source": [
    "# Your implementation\n",
    "sum_of_values = 0\n",
    "for keys, values in magic_dict.items():\n",
    "    if isinstance(values,(int,float)):\n",
    "        sum_of_values +=  values\n"
   ]
  },
  {
   "cell_type": "code",
   "execution_count": 258,
   "metadata": {
    "editable": false
   },
   "outputs": [],
   "source": [
    "assert sum_of_values == 100"
   ]
  },
  {
   "cell_type": "markdown",
   "metadata": {},
   "source": [
    "### Create a list of strings based on a list of numbers\n",
    "\n",
    "The rules:\n",
    "* If the number is a multiple of five and odd, the string should be `'five odd'`\n",
    "* If the number is a multiple of five and even, the string should be `'five even'`\n",
    "* If the number is odd, the string is `'odd'`\n",
    "* If the number is even, the string is `'even'`"
   ]
  },
  {
   "cell_type": "code",
   "execution_count": 259,
   "metadata": {
    "editable": false
   },
   "outputs": [],
   "source": [
    "numbers = [1, 3, 4, 6, 81, 80, 100, 95]"
   ]
  },
  {
   "cell_type": "code",
   "execution_count": 260,
   "metadata": {},
   "outputs": [
    {
     "name": "stdout",
     "output_type": "stream",
     "text": [
      "['odd', 'odd', 'even', 'even', 'odd', 'five even', 'five even', 'five odd']\n"
     ]
    }
   ],
   "source": [
    "# Your implementation\n",
    "my_list = []\n",
    "for values in numbers:\n",
    "    if values % 5 == 0 and  values % 2 == 0 :\n",
    "        my_list.append('five even')\n",
    "    elif values % 5 == 0 and  values % 2 == 1 :\n",
    "        my_list.append('five odd')\n",
    "    elif values % 2 == 0 :\n",
    "        my_list.append('even')\n",
    "    elif values % 2 == 1 :\n",
    "        my_list.append('odd')\n",
    "\n",
    "print(my_list)\n"
   ]
  },
  {
   "cell_type": "code",
   "execution_count": 261,
   "metadata": {
    "editable": false
   },
   "outputs": [],
   "source": [
    "assert my_list == ['odd', 'odd', 'even', 'even', 'odd', 'five even', 'five even', 'five odd']"
   ]
  },
  {
   "cell_type": "markdown",
   "metadata": {},
   "source": [
    "## While loops"
   ]
  },
  {
   "cell_type": "markdown",
   "metadata": {},
   "source": [
    "### Fill the missing pieces\n",
    "\n",
    "Fill the `____` parts in the code below."
   ]
  },
  {
   "cell_type": "code",
   "execution_count": 262,
   "metadata": {},
   "outputs": [],
   "source": [
    "words = ['PYTHON', 'JOHN', 'chEEse', 'hAm', 'DOE', '123']\n",
    "upper_case_words = []\n",
    "\n",
    "i = 0\n",
    "while i < len(words):\n",
    "    if words[i].isupper():\n",
    "         upper_case_words.append(words[i])\n",
    "    i = i+1"
   ]
  },
  {
   "cell_type": "code",
   "execution_count": 263,
   "metadata": {},
   "outputs": [],
   "source": [
    "assert upper_case_words == ['PYTHON', 'JOHN', 'DOE']"
   ]
  },
  {
   "cell_type": "markdown",
   "metadata": {},
   "source": [
    "## Break "
   ]
  },
  {
   "cell_type": "markdown",
   "metadata": {},
   "source": [
    "### Fill the missing pieces using `break` statement\n",
    "\n",
    "Fill the `____` parts in `for` loops to return a specified number.\n",
    "\n"
   ]
  },
  {
   "cell_type": "code",
   "execution_count": 264,
   "metadata": {},
   "outputs": [],
   "source": [
    "specified_number = 20"
   ]
  },
  {
   "cell_type": "code",
   "execution_count": 265,
   "metadata": {},
   "outputs": [],
   "source": [
    "# Your solution:\n",
    "number_of_iteraltions = 0\n",
    "for number in range(100):\n",
    "    if number == specified_number:\n",
    "        break\n",
    "    else:\n",
    "        number_of_iteraltions += 1\n",
    "        \n",
    "\n",
    "assert number_of_iteraltions == specified_number"
   ]
  },
  {
   "cell_type": "markdown",
   "metadata": {},
   "source": [
    "## Continue"
   ]
  },
  {
   "cell_type": "markdown",
   "metadata": {},
   "source": [
    "### Fill the missing pieces using  `continue` statement\n",
    "\n",
    "Fill the `____` parts in `for` loops to seperate out even numbers."
   ]
  },
  {
   "cell_type": "code",
   "execution_count": 266,
   "metadata": {},
   "outputs": [],
   "source": [
    "even_numbers = []\n",
    "rest_of_the_numbers = []"
   ]
  },
  {
   "cell_type": "code",
   "execution_count": 267,
   "metadata": {},
   "outputs": [],
   "source": [
    "# Your solution here:\n",
    "for number in range(20):\n",
    "    if number % 2 == 0:\n",
    "        even_numbers.append(number)\n",
    "        continue\n",
    "    \n",
    "    rest_of_the_numbers.append(number)"
   ]
  },
  {
   "cell_type": "code",
   "execution_count": 268,
   "metadata": {},
   "outputs": [],
   "source": [
    "assert even_numbers == [0, 2, 4, 6, 8, 10, 12, 14, 16, 18]"
   ]
  },
  {
   "cell_type": "markdown",
   "metadata": {},
   "source": [
    "## Functions"
   ]
  },
  {
   "cell_type": "markdown",
   "metadata": {},
   "source": [
    "### Fill the missing pieces of the `count_even_numbers` function\n",
    "\n",
    "Fill `____` pieces of the `count_even_numbers` implemention in order to pass the assertions. You can assume that `numbers` argument is a list of integers."
   ]
  },
  {
   "cell_type": "code",
   "execution_count": 269,
   "metadata": {},
   "outputs": [],
   "source": [
    "def count_even_numbers(numbers):\n",
    "    count = 0\n",
    "    for num in numbers:\n",
    "        if num % 2 == 0:\n",
    "            count += 1\n",
    "            continue\n",
    "    return count"
   ]
  },
  {
   "cell_type": "code",
   "execution_count": 270,
   "metadata": {
    "editable": false
   },
   "outputs": [],
   "source": [
    "assert count_even_numbers([1, 2, 3, 4, 5, 6]) == 3\n",
    "assert count_even_numbers([1, 3, 5, 7]) == 0\n",
    "assert count_even_numbers([-2, 2, -10, 8]) == 4"
   ]
  },
  {
   "cell_type": "markdown",
   "metadata": {},
   "source": [
    "### Searching for wanted people\n",
    "\n",
    "Implement `find_wanted_people` function which takes a list of names (strings) as argument. The function should return a list of names which are present both in `WANTED_PEOPLE` and in the name list given as argument to the function."
   ]
  },
  {
   "cell_type": "code",
   "execution_count": 271,
   "metadata": {
    "editable": false
   },
   "outputs": [],
   "source": [
    "WANTED_PEOPLE = ['John Doe', 'Clint Eastwood', 'Chuck Norris']"
   ]
  },
  {
   "cell_type": "code",
   "execution_count": 272,
   "metadata": {},
   "outputs": [],
   "source": [
    "# Your implementation here\n",
    "def find_wanted_people(w_p):\n",
    "    wanted = []\n",
    "    for people1 in WANTED_PEOPLE:\n",
    "        for people2 in w_p:\n",
    "            if people1 == people2:\n",
    "                wanted.append(people1)\n",
    "                break\n",
    "    return wanted"
   ]
  },
  {
   "cell_type": "code",
   "execution_count": 273,
   "metadata": {
    "editable": false
   },
   "outputs": [],
   "source": [
    "people_to_check1 = ['Donald Duck', 'Clint Eastwood', 'John Doe', 'Barack Obama']\n",
    "wanted1 = find_wanted_people(people_to_check1)\n",
    "assert len(wanted1) == 2\n",
    "assert 'John Doe' in wanted1\n",
    "assert 'Clint Eastwood'in wanted1\n",
    "\n",
    "people_to_check2 = ['Donald Duck', 'Mickey Mouse', 'Zorro', 'Superman', 'Robin Hood']\n",
    "wanted2 = find_wanted_people(people_to_check2)\n",
    "assert wanted2 == []"
   ]
  },
  {
   "cell_type": "markdown",
   "metadata": {},
   "source": [
    "### Counting average length of words in a sentence\n",
    "\n",
    "Create a function `average_length_of_words` which takes a string as an argument and returns the average length of the words in the string. You can assume that there is a single space between each word and that the input does not have punctuation. The result should be rounded to one decimal place (hint: see [`round`](https://docs.python.org/3/library/functions.html#round))."
   ]
  },
  {
   "cell_type": "code",
   "execution_count": 274,
   "metadata": {},
   "outputs": [],
   "source": [
    "# Your implementation here\n",
    "def average_length_of_words(words):\n",
    "    Lwords = words.split()\n",
    "    n = len(list(Lwords)) \n",
    "    print(n)\n",
    "    Cwords = words.replace(\" \",\"\")\n",
    "    m = len(Cwords)\n",
    "    try:\n",
    "        count = round(m/n,1)\n",
    "    except ZeroDivisionError:\n",
    "        count = 0\n",
    "    return count\n"
   ]
  },
  {
   "cell_type": "code",
   "execution_count": 275,
   "metadata": {
    "editable": false
   },
   "outputs": [
    {
     "name": "stdout",
     "output_type": "stream",
     "text": [
      "5\n",
      "3\n",
      "4\n",
      "0\n"
     ]
    }
   ],
   "source": [
    "assert average_length_of_words('only four lett erwo rdss') == 4\n",
    "assert average_length_of_words('one two three') == 3.7\n",
    "assert average_length_of_words('one two three four') == 3.8\n",
    "assert average_length_of_words('') == 0"
   ]
  },
  {
   "cell_type": "markdown",
   "metadata": {},
   "source": [
    "## Lambda"
   ]
  },
  {
   "cell_type": "markdown",
   "metadata": {},
   "source": [
    "### Fill the missing pieces\n",
    "\n",
    "Fill '____' pieces to achieve the following formula: $result = 3x^2 + 2x + 1$"
   ]
  },
  {
   "cell_type": "code",
   "execution_count": 276,
   "metadata": {},
   "outputs": [],
   "source": [
    "# Your formula here\n",
    "def poly(a, b, c):\n",
    "    return lambda x :a*x**2 + b*x + c\n",
    "\n",
    "result = poly(3, 2, 1)"
   ]
  },
  {
   "cell_type": "code",
   "execution_count": 277,
   "metadata": {},
   "outputs": [],
   "source": [
    "assert result(2) == 17"
   ]
  },
  {
   "cell_type": "markdown",
   "metadata": {},
   "source": [
    "## Classes"
   ]
  },
  {
   "cell_type": "markdown",
   "metadata": {},
   "source": [
    "### Fill the missing pieces of the `Calculator` class\n",
    "\n",
    "Fill `____` pieces of the `Calculator` implemention in order to pass the assertions."
   ]
  },
  {
   "cell_type": "code",
   "execution_count": 278,
   "metadata": {},
   "outputs": [],
   "source": [
    "class Calculator:\n",
    "    def __init__(self, var1, var2):\n",
    "        self.var1 = var1\n",
    "        self.var2 = var2\n",
    "    \n",
    "    def calculate_power(self):\n",
    "        return self.var1 ** self.var2\n",
    "    \n",
    "    def calculate_sum(self, var3):\n",
    "        return self.var1 + self.var2 + var3"
   ]
  },
  {
   "cell_type": "code",
   "execution_count": 279,
   "metadata": {
    "editable": false
   },
   "outputs": [],
   "source": [
    "calc = Calculator(2, 3)\n",
    "assert calc.calculate_power() == 8\n",
    "assert calc.calculate_sum(4) == 9"
   ]
  },
  {
   "cell_type": "markdown",
   "metadata": {},
   "source": [
    "### Finalize `StringManipulator` class\n",
    "\n",
    "Fill `____` pieces and create implementation for `stripped_title()`."
   ]
  },
  {
   "cell_type": "code",
   "execution_count": 280,
   "metadata": {},
   "outputs": [],
   "source": [
    "class StringManipulator:\n",
    "    \"\"\"____\"\"\"\n",
    "    \n",
    "    __doc__ = 'Docstring of StringManipulator'\n",
    "    category = 'Manipulator'\n",
    "\n",
    "    \n",
    "    def __init__(self, original):\n",
    "        self.string = original\n",
    "        \n",
    "    def reverse_words(self):\n",
    "        words = self.string\n",
    "        words = words.split()\n",
    "        words.reverse()\n",
    "        self.string = ' '.join(words)\n",
    "        \n",
    "    def make_title(self):\n",
    "        self.string = self.string.title()\n",
    "        \n",
    "    def get_manipulated(self):\n",
    "        return self.string"
   ]
  },
  {
   "cell_type": "code",
   "execution_count": 281,
   "metadata": {
    "editable": false
   },
   "outputs": [],
   "source": [
    "assert StringManipulator.__doc__ == 'Docstring of StringManipulator'\n",
    "assert StringManipulator.category == 'Manipulator'\n",
    "\n",
    "str_manip = StringManipulator('cOOL pyThON')\n",
    "str_manip.reverse_words()\n",
    "assert str_manip.get_manipulated() == 'pyThON cOOL'\n",
    "\n",
    "str_manip.make_title()\n",
    "assert str_manip.get_manipulated() == 'Python Cool'"
   ]
  },
  {
   "cell_type": "markdown",
   "metadata": {},
   "source": [
    "### Create `Dog` class\n",
    "\n",
    "Create `Dog` class which has the following specification:\n",
    "\n",
    "* Dogs consume their energy by barking and gain energy by sleeping\n",
    "* A fresh `Dog` instance has 10 units of energy\n",
    "* `Dog` has a method `sleep` which gives 2 units of energy\n",
    "* `Dog` has a method `bark` which consumes 1 unit of energy\n",
    "* `Dog` has a method `get_energy` which returns the amount of energy left "
   ]
  },
  {
   "cell_type": "code",
   "execution_count": 282,
   "metadata": {},
   "outputs": [],
   "source": [
    "class Dog:\n",
    "    # Your implementation here\n",
    "    def __init__(self, energy = 10):\n",
    "        self.energy = energy\n",
    "\n",
    "    def sleep(self):\n",
    "        self.energy += 2\n",
    "\n",
    "    def bark(self):\n",
    "        self.energy -= 1\n",
    "\n",
    "    def get_energy(self) :\n",
    "        return self.energy\n",
    "\n"
   ]
  },
  {
   "cell_type": "code",
   "execution_count": 283,
   "metadata": {
    "editable": false
   },
   "outputs": [],
   "source": [
    "doge = Dog()\n",
    "assert doge.get_energy() == 10\n",
    "\n",
    "doge.bark()\n",
    "doge.bark()\n",
    "doge.bark()\n",
    "assert doge.get_energy() == 7\n",
    "\n",
    "doge.sleep()\n",
    "assert doge.get_energy() == 9\n",
    "\n",
    "another_doge = Dog()\n",
    "assert another_doge.get_energy() == 10"
   ]
  },
  {
   "cell_type": "markdown",
   "metadata": {},
   "source": [
    "## Exceptions"
   ]
  },
  {
   "cell_type": "markdown",
   "metadata": {},
   "source": [
    "### Dealing with exceptions\n",
    "\n",
    "Fill `____` parts of the implementation below. `sum_of_list` function takes a list as argument and calculates the sum of values in the list. If some element in the list can not be converted to a numeric value, it should be ignored from the sum."
   ]
  },
  {
   "cell_type": "code",
   "execution_count": 284,
   "metadata": {},
   "outputs": [],
   "source": [
    "from distutils.log import error\n",
    "import errno\n",
    "\n",
    "\n",
    "def sum_of_list(values):\n",
    "    count = 0\n",
    "    for val in values:\n",
    "        try:\n",
    "            numeric_val = float(val)\n",
    "        except TypeError as e:\n",
    "            continue\n",
    "        except ValueError:\n",
    "            continue\n",
    "        count += numeric_val\n",
    "    return count"
   ]
  },
  {
   "cell_type": "code",
   "execution_count": 285,
   "metadata": {
    "editable": false
   },
   "outputs": [],
   "source": [
    "list1 = [1, 2, 3]\n",
    "list2 = ['1', 2.5, '3.0']\n",
    "list3 = ['', '1']\n",
    "list4 = []\n",
    "list5 = ['John', 'Doe', 'was', 'here']\n",
    "nasty_list = [KeyError(), [], dict()]\n",
    "\n",
    "assert sum_of_list(list1) == 6\n",
    "assert sum_of_list(list2) == 6.5\n",
    "assert sum_of_list(list3) == 1\n",
    "assert sum_of_list(list4) == 0\n",
    "assert sum_of_list(list5) == 0\n",
    "assert sum_of_list(nasty_list) == 0"
   ]
  },
  {
   "cell_type": "markdown",
   "metadata": {},
   "source": [
    "### Using custom exceptions\n",
    "\n",
    "Implement `verify_short_string` function which takes a single string as argument. If the length of the input string is more than ten characters, the function should raise `TooLongString` exception (note: you have to create `TooLongString` yourself). The function does not have to return anything.  "
   ]
  },
  {
   "cell_type": "code",
   "execution_count": 286,
   "metadata": {},
   "outputs": [],
   "source": [
    "# Your implementation here\n",
    "class TooLongString(Exception):\n",
    "    def __init__(self, message):\n",
    "        self.message = message\n",
    "\n",
    "def verify_short_string(lt):\n",
    "        if len(lt)>10:\n",
    "            raise TooLongString('this is too long')\n",
    "        \n",
    "\n",
    " \n"
   ]
  },
  {
   "cell_type": "code",
   "execution_count": 287,
   "metadata": {
    "editable": false
   },
   "outputs": [],
   "source": [
    "# These should not raise\n",
    "verify_short_string('short') \n",
    "verify_short_string('10   chars')\n",
    "\n",
    "# This should raise\n",
    "\n",
    "try:\n",
    "    verify_short_string('this is long')\n",
    "except TooLongString as e:\n",
    "    # This is ok\n",
    "    pass\n",
    "else:\n",
    "    # This means that there was no exception\n",
    "    assert False "
   ]
  },
  {
   "cell_type": "markdown",
   "metadata": {},
   "source": [
    "## Acknowledgments\n",
    "\n",
    "Thanks to below awesome open source projects for Python learning, which inspire this chapter.\n",
    "\n",
    "- [learn-python](https://github.com/trekhleb/learn-python) and [Oleksii Trekhleb](https://github.com/trekhleb)\n",
    "- [ultimate-python](https://github.com/huangsam/ultimate-python) and [Samuel Huang](https://github.com/huangsam)\n",
    "- [learn-python3](https://github.com/jerry-git/learn-python3) and [Jerry Pussine](https://github.com/jerry-gitq )"
   ]
  }
 ],
 "metadata": {
  "kernelspec": {
   "display_name": "Python 3",
   "language": "python",
   "name": "python3"
  },
  "language_info": {
   "codemirror_mode": {
    "name": "ipython",
    "version": 3
   },
   "file_extension": ".py",
   "mimetype": "text/x-python",
   "name": "python",
   "nbconvert_exporter": "python",
   "pygments_lexer": "ipython3",
   "version": "3.10.8 (v3.10.8:aaaf517424, Oct 11 2022, 10:14:40) [Clang 13.0.0 (clang-1300.0.29.30)]"
  },
  "orig_nbformat": 4,
  "vscode": {
   "interpreter": {
    "hash": "aee8b7b246df8f9039afb4144a1f6fd8d2ca17a180786b69acc140d282b71a49"
   }
  }
 },
 "nbformat": 4,
 "nbformat_minor": 2
}
